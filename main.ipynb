{
 "cells": [
  {
   "cell_type": "code",
   "execution_count": null,

   "id": "9db3c58a-ce8a-4361-b315-862e2de11c2e",
   "metadata": {},
   "outputs": [],
   "source": [
    "# Document processing\n",
    "import pypdf  # For PDF processing\n",
    "import markdown  # For markdown files\n",
    "\n",
    "# Vector database\n",
    "import chromadb  # Lightweight vector database\n",
    "\n",
    "# Embeddings\n",
    "from sentence_transformers import SentenceTransformer  # For MiniLM-L6 embeddings\n",
    "\n",
    "# LLM integration\n",
    "# For local models:\n",
    "#from transformers import AutoModelForCausalLM, AutoTokenizer\n",
    "# Or for Phi-3-mini specifically:\n",
    "from transformers import AutoModelForCausalLM, AutoTokenizer\n",
    "\n",
    "# RAG Framework\n",
    "# LangChain:\n",
    "from langchain.document_loaders import DirectoryLoader, PyPDFLoader, TextLoader\n",
    "from langchain.text_splitter import RecursiveCharacterTextSplitter\n",
    "from langchain.embeddings import HuggingFaceEmbeddings\n",
    "from langchain.vectorstores import Chroma\n",
    "from langchain.llms import HuggingFacePipeline\n",
    "from langchain.chains import RetrievalQA\n",
    "\n",
    "# UI\n",
    "#import gradio  # For web UI"
   ]

  }
 ],
 "metadata": {
  "kernelspec": {
   "display_name": "Python 3 (ipykernel)",
   "language": "python",
   "name": "python3"
  },
  "language_info": {
   "codemirror_mode": {
    "name": "ipython",
    "version": 3
   },
   "file_extension": ".py",
   "mimetype": "text/x-python",
   "name": "python",
   "nbconvert_exporter": "python",
   "pygments_lexer": "ipython3",
   "version": "3.12.9"

  }
 },
 "nbformat": 4,
 "nbformat_minor": 5
}
